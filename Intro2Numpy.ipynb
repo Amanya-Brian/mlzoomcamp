{
 "cells": [
  {
   "cell_type": "code",
   "execution_count": 3,
   "id": "06ce700e-574e-4c2e-a4df-568f867ec93c",
   "metadata": {},
   "outputs": [],
   "source": [
    "import numpy as np"
   ]
  },
  {
   "cell_type": "markdown",
   "id": "0a21f06a-52dc-4fd1-bf53-bdf9e12fd075",
   "metadata": {},
   "source": [
    "# Creating Arrays"
   ]
  },
  {
   "cell_type": "code",
   "execution_count": 6,
   "id": "4655a8a6-c99b-4bc9-ac43-d3a56f246039",
   "metadata": {},
   "outputs": [
    {
     "data": {
      "text/plain": [
       "array([3, 3, 3, 3, 3, 3, 3, 3, 3, 3])"
      ]
     },
     "execution_count": 6,
     "metadata": {},
     "output_type": "execute_result"
    }
   ],
   "source": [
    "a = np.full(10,3)\n",
    "a"
   ]
  },
  {
   "cell_type": "markdown",
   "id": "f06200b9-8dea-4929-af03-50cd5a202e03",
   "metadata": {},
   "source": [
    "## Converting a list to an array"
   ]
  },
  {
   "cell_type": "code",
   "execution_count": 11,
   "id": "eadc73f9-0351-43d4-a6c7-e68caeab1de3",
   "metadata": {},
   "outputs": [
    {
     "data": {
      "text/plain": [
       "array([12, 13, 14, 15])"
      ]
     },
     "execution_count": 11,
     "metadata": {},
     "output_type": "execute_result"
    }
   ],
   "source": [
    "my_list = [12,13,14,15]\n",
    "my_array = np.array(my_list)\n",
    "my_list\n",
    "my_array"
   ]
  },
  {
   "cell_type": "code",
   "execution_count": null,
   "id": "f270f5ac-448e-40c0-b84b-9b1f917b4a5c",
   "metadata": {},
   "outputs": [],
   "source": []
  },
  {
   "cell_type": "code",
   "execution_count": null,
   "id": "6c12256e-8b6e-4079-bb61-a260181edc97",
   "metadata": {},
   "outputs": [],
   "source": []
  }
 ],
 "metadata": {
  "kernelspec": {
   "display_name": "Python 3 (ipykernel)",
   "language": "python",
   "name": "python3"
  },
  "language_info": {
   "codemirror_mode": {
    "name": "ipython",
    "version": 3
   },
   "file_extension": ".py",
   "mimetype": "text/x-python",
   "name": "python",
   "nbconvert_exporter": "python",
   "pygments_lexer": "ipython3",
   "version": "3.12.4"
  }
 },
 "nbformat": 4,
 "nbformat_minor": 5
}
