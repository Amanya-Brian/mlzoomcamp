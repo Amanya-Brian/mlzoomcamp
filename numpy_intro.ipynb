{
  "metadata": {
    "kernelspec": {
      "name": "python3",
      "display_name": "Python 3",
      "language": "python"
    },
    "language_info": {
      "name": "python",
      "version": "3.10.14",
      "mimetype": "text/x-python",
      "codemirror_mode": {
        "name": "ipython",
        "version": 3
      },
      "pygments_lexer": "ipython3",
      "nbconvert_exporter": "python",
      "file_extension": ".py"
    },
    "kaggle": {
      "accelerator": "none",
      "dataSources": [],
      "dockerImageVersionId": 30761,
      "isInternetEnabled": true,
      "language": "python",
      "sourceType": "notebook",
      "isGpuEnabled": false
    },
    "colab": {
      "name": "numpy_intro",
      "provenance": [],
      "include_colab_link": true
    }
  },
  "nbformat_minor": 5,
  "nbformat": 4,
  "cells": [
    {
      "cell_type": "markdown",
      "metadata": {
        "id": "view-in-github",
        "colab_type": "text"
      },
      "source": [
        "<a href=\"https://colab.research.google.com/github/Amanya-Brian/mlzoomcamp/blob/main/numpy_intro.ipynb\" target=\"_parent\"><img src=\"https://colab.research.google.com/assets/colab-badge.svg\" alt=\"Open In Colab\"/></a>"
      ]
    },
    {
      "cell_type": "code",
      "source": [
        "import numpy as np"
      ],
      "metadata": {
        "execution": {
          "iopub.status.busy": "2024-08-22T17:06:44.841112Z",
          "iopub.execute_input": "2024-08-22T17:06:44.842257Z",
          "iopub.status.idle": "2024-08-22T17:06:44.847838Z",
          "shell.execute_reply.started": "2024-08-22T17:06:44.842203Z",
          "shell.execute_reply": "2024-08-22T17:06:44.84639Z"
        },
        "trusted": true,
        "id": "RKMTHyiP_q8U"
      },
      "execution_count": null,
      "outputs": [],
      "id": "RKMTHyiP_q8U"
    },
    {
      "cell_type": "markdown",
      "source": [
        "# Creating Arrays"
      ],
      "metadata": {
        "id": "Rm3vuTRz_q8V"
      },
      "id": "Rm3vuTRz_q8V"
    },
    {
      "cell_type": "code",
      "source": [
        "a = np.full(10,3)\n",
        "a"
      ],
      "metadata": {
        "execution": {
          "iopub.status.busy": "2024-08-22T17:06:44.852639Z",
          "iopub.execute_input": "2024-08-22T17:06:44.853725Z",
          "iopub.status.idle": "2024-08-22T17:06:44.868141Z",
          "shell.execute_reply.started": "2024-08-22T17:06:44.853665Z",
          "shell.execute_reply": "2024-08-22T17:06:44.866916Z"
        },
        "trusted": true,
        "id": "TaI3VPve_q8V",
        "outputId": "d45e40b3-f8ac-499a-dc95-4b3dc6a46e42"
      },
      "execution_count": null,
      "outputs": [
        {
          "execution_count": 27,
          "output_type": "execute_result",
          "data": {
            "text/plain": "array([3, 3, 3, 3, 3, 3, 3, 3, 3, 3])"
          },
          "metadata": {}
        }
      ],
      "id": "TaI3VPve_q8V"
    },
    {
      "cell_type": "markdown",
      "source": [
        "## Converting a list to an array"
      ],
      "metadata": {
        "id": "30ACFRuV_q8V"
      },
      "id": "30ACFRuV_q8V"
    },
    {
      "cell_type": "code",
      "source": [
        "my_list = [12,13,14,15]\n",
        "my_array = np.array(my_list)\n",
        "my_list\n",
        "my_array"
      ],
      "metadata": {
        "execution": {
          "iopub.status.busy": "2024-08-22T17:06:44.87022Z",
          "iopub.execute_input": "2024-08-22T17:06:44.871532Z",
          "iopub.status.idle": "2024-08-22T17:06:44.88173Z",
          "shell.execute_reply.started": "2024-08-22T17:06:44.871475Z",
          "shell.execute_reply": "2024-08-22T17:06:44.880301Z"
        },
        "trusted": true,
        "id": "JCy_QD7v_q8W",
        "outputId": "bf9ae351-92a2-487b-f3b8-1a9fe9ca1f93"
      },
      "execution_count": null,
      "outputs": [
        {
          "execution_count": 28,
          "output_type": "execute_result",
          "data": {
            "text/plain": "array([12, 13, 14, 15])"
          },
          "metadata": {}
        }
      ],
      "id": "JCy_QD7v_q8W"
    },
    {
      "cell_type": "markdown",
      "source": [
        "# Generating a range of numbers"
      ],
      "metadata": {
        "id": "Euoy8wsv_q8X"
      },
      "id": "Euoy8wsv_q8X"
    },
    {
      "cell_type": "code",
      "source": [
        "b = np.arange(0,10)\n",
        "b"
      ],
      "metadata": {
        "execution": {
          "iopub.status.busy": "2024-08-22T17:06:44.88395Z",
          "iopub.execute_input": "2024-08-22T17:06:44.884417Z",
          "iopub.status.idle": "2024-08-22T17:06:44.901478Z",
          "shell.execute_reply.started": "2024-08-22T17:06:44.884358Z",
          "shell.execute_reply": "2024-08-22T17:06:44.900091Z"
        },
        "trusted": true,
        "id": "Lb8AJy91_q8X",
        "outputId": "8f00785c-d33e-45b4-a5de-e2d77d617084"
      },
      "execution_count": null,
      "outputs": [
        {
          "execution_count": 29,
          "output_type": "execute_result",
          "data": {
            "text/plain": "array([0, 1, 2, 3, 4, 5, 6, 7, 8, 9])"
          },
          "metadata": {}
        }
      ],
      "id": "Lb8AJy91_q8X"
    },
    {
      "cell_type": "markdown",
      "source": [
        "# Creating arrays with linear spacing"
      ],
      "metadata": {
        "id": "FAZtAg3N_q8X"
      },
      "id": "FAZtAg3N_q8X"
    },
    {
      "cell_type": "code",
      "source": [
        "c = np.linspace(0,90,10)\n",
        "c"
      ],
      "metadata": {
        "execution": {
          "iopub.status.busy": "2024-08-22T17:06:44.904298Z",
          "iopub.execute_input": "2024-08-22T17:06:44.904998Z",
          "iopub.status.idle": "2024-08-22T17:06:44.915332Z",
          "shell.execute_reply.started": "2024-08-22T17:06:44.904947Z",
          "shell.execute_reply": "2024-08-22T17:06:44.914048Z"
        },
        "trusted": true,
        "id": "_wxZyw63_q8Y",
        "outputId": "3564aeb7-506b-4818-af79-648ffa954f37"
      },
      "execution_count": null,
      "outputs": [
        {
          "execution_count": 30,
          "output_type": "execute_result",
          "data": {
            "text/plain": "array([ 0., 10., 20., 30., 40., 50., 60., 70., 80., 90.])"
          },
          "metadata": {}
        }
      ],
      "id": "_wxZyw63_q8Y"
    },
    {
      "cell_type": "markdown",
      "source": [
        "# Creating multidimensional arrays"
      ],
      "metadata": {
        "id": "OpbyLAjb_q8Y"
      },
      "id": "OpbyLAjb_q8Y"
    },
    {
      "cell_type": "code",
      "source": [
        "d = np.full((5,2),3)\n",
        "d"
      ],
      "metadata": {
        "execution": {
          "iopub.status.busy": "2024-08-22T17:06:44.917198Z",
          "iopub.execute_input": "2024-08-22T17:06:44.917763Z",
          "iopub.status.idle": "2024-08-22T17:06:44.928834Z",
          "shell.execute_reply.started": "2024-08-22T17:06:44.917608Z",
          "shell.execute_reply": "2024-08-22T17:06:44.927423Z"
        },
        "trusted": true,
        "id": "T9ykLRfn_q8Y",
        "outputId": "f05159d2-55f8-40a3-cd07-ad63dc393f13"
      },
      "execution_count": null,
      "outputs": [
        {
          "execution_count": 31,
          "output_type": "execute_result",
          "data": {
            "text/plain": "array([[3, 3],\n       [3, 3],\n       [3, 3],\n       [3, 3],\n       [3, 3]])"
          },
          "metadata": {}
        }
      ],
      "id": "T9ykLRfn_q8Y"
    },
    {
      "cell_type": "code",
      "source": [
        "d[2,1] = 9\n",
        "d"
      ],
      "metadata": {
        "execution": {
          "iopub.status.busy": "2024-08-22T17:06:44.930088Z",
          "iopub.execute_input": "2024-08-22T17:06:44.930637Z",
          "iopub.status.idle": "2024-08-22T17:06:44.9419Z",
          "shell.execute_reply.started": "2024-08-22T17:06:44.930564Z",
          "shell.execute_reply": "2024-08-22T17:06:44.940504Z"
        },
        "trusted": true,
        "id": "D1ucCSQu_q8Y",
        "outputId": "07fea3d3-11d3-42c7-de34-78fb0307674b"
      },
      "execution_count": null,
      "outputs": [
        {
          "execution_count": 32,
          "output_type": "execute_result",
          "data": {
            "text/plain": "array([[3, 3],\n       [3, 3],\n       [3, 9],\n       [3, 3],\n       [3, 3]])"
          },
          "metadata": {}
        }
      ],
      "id": "D1ucCSQu_q8Y"
    },
    {
      "cell_type": "markdown",
      "source": [
        "# Generating random arrays"
      ],
      "metadata": {
        "id": "j2ZsJtwE_q8Z"
      },
      "id": "j2ZsJtwE_q8Z"
    },
    {
      "cell_type": "code",
      "source": [
        "np.random.seed(10)\n",
        "e = np.random.rand(5)\n",
        "e"
      ],
      "metadata": {
        "execution": {
          "iopub.status.busy": "2024-08-22T17:06:44.943467Z",
          "iopub.execute_input": "2024-08-22T17:06:44.944399Z",
          "iopub.status.idle": "2024-08-22T17:06:44.955932Z",
          "shell.execute_reply.started": "2024-08-22T17:06:44.944347Z",
          "shell.execute_reply": "2024-08-22T17:06:44.95474Z"
        },
        "trusted": true,
        "id": "I7eKs6QQ_q8Z",
        "outputId": "6d1c7bd1-9635-4982-e118-3e6907dd5ad2"
      },
      "execution_count": null,
      "outputs": [
        {
          "execution_count": 33,
          "output_type": "execute_result",
          "data": {
            "text/plain": "array([0.77132064, 0.02075195, 0.63364823, 0.74880388, 0.49850701])"
          },
          "metadata": {}
        }
      ],
      "id": "I7eKs6QQ_q8Z"
    },
    {
      "cell_type": "markdown",
      "source": [
        "# Array Multiplications"
      ],
      "metadata": {
        "id": "CGnJyf6Z_q8a"
      },
      "id": "CGnJyf6Z_q8a"
    },
    {
      "cell_type": "code",
      "source": [
        "u = np.array([1,2,3,4])\n",
        "v = np.array([2,0,0,4])"
      ],
      "metadata": {
        "execution": {
          "iopub.status.busy": "2024-08-22T17:06:44.957822Z",
          "iopub.execute_input": "2024-08-22T17:06:44.958254Z",
          "iopub.status.idle": "2024-08-22T17:06:44.969417Z",
          "shell.execute_reply.started": "2024-08-22T17:06:44.958208Z",
          "shell.execute_reply": "2024-08-22T17:06:44.968004Z"
        },
        "trusted": true,
        "id": "2Q_I8sax_q8a"
      },
      "execution_count": null,
      "outputs": [],
      "id": "2Q_I8sax_q8a"
    },
    {
      "cell_type": "code",
      "source": [
        "\n",
        "\n",
        "def vector_vector_mult(u1,v1):\n",
        "\n",
        "    assert u1.shape[0] == v1.shape[0]\n",
        "\n",
        "    result = 0.0\n",
        "\n",
        "    for i in range(u1.shape[0]):\n",
        "        result = result + u1[i] * v1[i]\n",
        "\n",
        "    return result\n",
        "\n",
        "u"
      ],
      "metadata": {
        "execution": {
          "iopub.status.busy": "2024-08-22T17:06:44.972722Z",
          "iopub.execute_input": "2024-08-22T17:06:44.973575Z",
          "iopub.status.idle": "2024-08-22T17:06:44.983736Z",
          "shell.execute_reply.started": "2024-08-22T17:06:44.973517Z",
          "shell.execute_reply": "2024-08-22T17:06:44.982695Z"
        },
        "trusted": true,
        "id": "v3oS3YbF_q8a",
        "outputId": "0255069e-d9c2-4ad2-83a1-6b374daecf17"
      },
      "execution_count": null,
      "outputs": [
        {
          "execution_count": 35,
          "output_type": "execute_result",
          "data": {
            "text/plain": "array([1, 2, 3, 4])"
          },
          "metadata": {}
        }
      ],
      "id": "v3oS3YbF_q8a"
    },
    {
      "cell_type": "code",
      "source": [
        "print(u * v)\n",
        "print(vector_vector_mult(u,v))\n",
        "print(\"Here we go\")\n",
        "u.dot(v)"
      ],
      "metadata": {
        "execution": {
          "iopub.status.busy": "2024-08-22T17:06:45.065218Z",
          "iopub.execute_input": "2024-08-22T17:06:45.065667Z",
          "iopub.status.idle": "2024-08-22T17:06:45.075082Z",
          "shell.execute_reply.started": "2024-08-22T17:06:45.065619Z",
          "shell.execute_reply": "2024-08-22T17:06:45.073667Z"
        },
        "trusted": true,
        "id": "GqynqiF0_q8a",
        "outputId": "173e253f-0a64-4607-c454-c26cf253bdfa"
      },
      "execution_count": null,
      "outputs": [
        {
          "name": "stdout",
          "text": "[ 2  0  0 16]\n18.0\nHere we go\n",
          "output_type": "stream"
        },
        {
          "execution_count": 36,
          "output_type": "execute_result",
          "data": {
            "text/plain": "18"
          },
          "metadata": {}
        }
      ],
      "id": "GqynqiF0_q8a"
    },
    {
      "cell_type": "markdown",
      "source": [
        "# Matrix Vector multiplication"
      ],
      "metadata": {
        "id": "yS2HCZM2_q8b"
      },
      "id": "yS2HCZM2_q8b"
    },
    {
      "cell_type": "code",
      "source": [
        "U = np.array([[2,4,3,1],[2,0,3,1],[0,4,2,3]])\n",
        "U"
      ],
      "metadata": {
        "execution": {
          "iopub.status.busy": "2024-08-22T17:06:45.078033Z",
          "iopub.execute_input": "2024-08-22T17:06:45.078471Z",
          "iopub.status.idle": "2024-08-22T17:06:45.091407Z",
          "shell.execute_reply.started": "2024-08-22T17:06:45.0784Z",
          "shell.execute_reply": "2024-08-22T17:06:45.089868Z"
        },
        "trusted": true,
        "id": "HX8p9Byx_q8b",
        "outputId": "9c650e87-3bdb-466d-cb27-4698d3173da3"
      },
      "execution_count": null,
      "outputs": [
        {
          "execution_count": 37,
          "output_type": "execute_result",
          "data": {
            "text/plain": "array([[2, 4, 3, 1],\n       [2, 0, 3, 1],\n       [0, 4, 2, 3]])"
          },
          "metadata": {}
        }
      ],
      "id": "HX8p9Byx_q8b"
    },
    {
      "cell_type": "code",
      "source": [
        "def matrix_vector_mult(U,v):\n",
        "    assert U.shape[1] == v.shape[0]\n",
        "\n",
        "    mv_result = np.zeros(U.shape[0])\n",
        "\n",
        "    for i in range(U.shape[0]):\n",
        "        mv_result[i] = vector_vector_mult(U[i],v)\n",
        "\n",
        "    return mv_result"
      ],
      "metadata": {
        "execution": {
          "iopub.status.busy": "2024-08-22T17:06:45.093189Z",
          "iopub.execute_input": "2024-08-22T17:06:45.093808Z",
          "iopub.status.idle": "2024-08-22T17:06:45.102961Z",
          "shell.execute_reply.started": "2024-08-22T17:06:45.093585Z",
          "shell.execute_reply": "2024-08-22T17:06:45.101738Z"
        },
        "trusted": true,
        "id": "obaf9t9y_q8b"
      },
      "execution_count": null,
      "outputs": [],
      "id": "obaf9t9y_q8b"
    },
    {
      "cell_type": "code",
      "source": [
        "print(U.dot(v))\n",
        "print(matrix_vector_mult(U,v))"
      ],
      "metadata": {
        "execution": {
          "iopub.status.busy": "2024-08-22T17:06:45.104216Z",
          "iopub.execute_input": "2024-08-22T17:06:45.104577Z",
          "iopub.status.idle": "2024-08-22T17:06:45.116737Z",
          "shell.execute_reply.started": "2024-08-22T17:06:45.104529Z",
          "shell.execute_reply": "2024-08-22T17:06:45.115636Z"
        },
        "trusted": true,
        "id": "8hDVH7qU_q8b",
        "outputId": "b04908d0-f171-4a5a-d7c9-5355dc4e737c"
      },
      "execution_count": null,
      "outputs": [
        {
          "name": "stdout",
          "text": "[ 8  8 12]\n[ 8.  8. 12.]\n",
          "output_type": "stream"
        }
      ],
      "id": "8hDVH7qU_q8b"
    },
    {
      "cell_type": "markdown",
      "source": [
        "# Matrix Matrix Multiplication"
      ],
      "metadata": {
        "id": "jr3TNJCJ_q8b"
      },
      "id": "jr3TNJCJ_q8b"
    },
    {
      "cell_type": "code",
      "source": [
        "V = np.array([[1,2,3],[2,4,3],[4,1,3],[3,2,1]])\n",
        "print(V.shape)\n",
        "print(U.shape)"
      ],
      "metadata": {
        "execution": {
          "iopub.status.busy": "2024-08-22T17:06:45.123097Z",
          "iopub.execute_input": "2024-08-22T17:06:45.123616Z",
          "iopub.status.idle": "2024-08-22T17:06:45.132433Z",
          "shell.execute_reply.started": "2024-08-22T17:06:45.12355Z",
          "shell.execute_reply": "2024-08-22T17:06:45.131227Z"
        },
        "trusted": true,
        "id": "-tggw2CV_q8b",
        "outputId": "858d5164-adca-40b8-e81c-ee041f68891e"
      },
      "execution_count": null,
      "outputs": [
        {
          "name": "stdout",
          "text": "(4, 3)\n(3, 4)\n",
          "output_type": "stream"
        }
      ],
      "id": "-tggw2CV_q8b"
    },
    {
      "cell_type": "code",
      "source": [
        "def matrix_matrix_mult(U, V):\n",
        "    assert U.shape[1] == V.shape[0]\n",
        "\n",
        "    num_rows = U.shape[0]\n",
        "    num_cols = V.shape[1]\n",
        "\n",
        "    result = np.zeros((num_rows, num_cols))\n",
        "\n",
        "    for i in range(num_cols):\n",
        "        vi = V[:,i]\n",
        "        Uvi = matrix_vector_mult(U, vi)\n",
        "        result[:, i] = Uvi\n",
        "\n",
        "    return result"
      ],
      "metadata": {
        "execution": {
          "iopub.status.busy": "2024-08-22T17:06:45.133568Z",
          "iopub.execute_input": "2024-08-22T17:06:45.134119Z",
          "iopub.status.idle": "2024-08-22T17:06:45.148338Z",
          "shell.execute_reply.started": "2024-08-22T17:06:45.134071Z",
          "shell.execute_reply": "2024-08-22T17:06:45.146665Z"
        },
        "trusted": true,
        "id": "5yOhtAcV_q8c"
      },
      "execution_count": null,
      "outputs": [],
      "id": "5yOhtAcV_q8c"
    },
    {
      "cell_type": "code",
      "source": [
        "print(matrix_matrix_mult(U, V))\n",
        "U.dot(V)"
      ],
      "metadata": {
        "execution": {
          "iopub.status.busy": "2024-08-22T17:06:45.150073Z",
          "iopub.execute_input": "2024-08-22T17:06:45.150844Z",
          "iopub.status.idle": "2024-08-22T17:06:45.164548Z",
          "shell.execute_reply.started": "2024-08-22T17:06:45.150791Z",
          "shell.execute_reply": "2024-08-22T17:06:45.162836Z"
        },
        "trusted": true,
        "id": "5iRKA64l_q8c",
        "outputId": "807ebf1e-1e7e-4795-9e9a-dcfcb8aa9951"
      },
      "execution_count": null,
      "outputs": [
        {
          "name": "stdout",
          "text": "[[25. 25. 28.]\n [17.  9. 16.]\n [25. 24. 21.]]\n",
          "output_type": "stream"
        },
        {
          "execution_count": 42,
          "output_type": "execute_result",
          "data": {
            "text/plain": "array([[25, 25, 28],\n       [17,  9, 16],\n       [25, 24, 21]])"
          },
          "metadata": {}
        }
      ],
      "id": "5iRKA64l_q8c"
    },
    {
      "cell_type": "markdown",
      "source": [
        "# Identity Matrix"
      ],
      "metadata": {
        "id": "CO_jGh24_q8c"
      },
      "id": "CO_jGh24_q8c"
    },
    {
      "cell_type": "code",
      "source": [
        "d = np.eye(3)\n",
        "d"
      ],
      "metadata": {
        "execution": {
          "iopub.status.busy": "2024-08-22T17:06:45.166184Z",
          "iopub.execute_input": "2024-08-22T17:06:45.166589Z",
          "iopub.status.idle": "2024-08-22T17:06:45.183543Z",
          "shell.execute_reply.started": "2024-08-22T17:06:45.166549Z",
          "shell.execute_reply": "2024-08-22T17:06:45.181989Z"
        },
        "trusted": true,
        "id": "4CYN5IIK_q8c",
        "outputId": "74f8b8b0-54f7-4c46-b64b-b1a7f32c704e"
      },
      "execution_count": null,
      "outputs": [
        {
          "execution_count": 43,
          "output_type": "execute_result",
          "data": {
            "text/plain": "array([[1., 0., 0.],\n       [0., 1., 0.],\n       [0., 0., 1.]])"
          },
          "metadata": {}
        }
      ],
      "id": "4CYN5IIK_q8c"
    },
    {
      "cell_type": "markdown",
      "source": [
        "# Inverse"
      ],
      "metadata": {
        "id": "dbbcjYkh_q8d"
      },
      "id": "dbbcjYkh_q8d"
    },
    {
      "cell_type": "code",
      "source": [
        "Vs = V[[0,1,2]]\n",
        "Vs"
      ],
      "metadata": {
        "execution": {
          "iopub.status.busy": "2024-08-22T17:06:45.185553Z",
          "iopub.execute_input": "2024-08-22T17:06:45.186752Z",
          "iopub.status.idle": "2024-08-22T17:06:45.200576Z",
          "shell.execute_reply.started": "2024-08-22T17:06:45.186693Z",
          "shell.execute_reply": "2024-08-22T17:06:45.199253Z"
        },
        "trusted": true,
        "id": "AqtMpzY__q8d",
        "outputId": "ce4ac7ce-ff29-4c8c-ae1a-a6a6c98e8eed"
      },
      "execution_count": null,
      "outputs": [
        {
          "execution_count": 44,
          "output_type": "execute_result",
          "data": {
            "text/plain": "array([[1, 2, 3],\n       [2, 4, 3],\n       [4, 1, 3]])"
          },
          "metadata": {}
        }
      ],
      "id": "AqtMpzY__q8d"
    },
    {
      "cell_type": "code",
      "source": [
        "Vs_inv = np.linalg.inv(Vs)\n",
        "Vs_inv"
      ],
      "metadata": {
        "execution": {
          "iopub.status.busy": "2024-08-22T17:06:45.202458Z",
          "iopub.execute_input": "2024-08-22T17:06:45.202921Z",
          "iopub.status.idle": "2024-08-22T17:06:45.221571Z",
          "shell.execute_reply.started": "2024-08-22T17:06:45.202872Z",
          "shell.execute_reply": "2024-08-22T17:06:45.220382Z"
        },
        "trusted": true,
        "id": "F2e63Tip_q8d",
        "outputId": "580fae53-df78-474c-9f40-01c695c8df67"
      },
      "execution_count": null,
      "outputs": [
        {
          "execution_count": 45,
          "output_type": "execute_result",
          "data": {
            "text/plain": "array([[-0.42857143,  0.14285714,  0.28571429],\n       [-0.28571429,  0.42857143, -0.14285714],\n       [ 0.66666667, -0.33333333,  0.        ]])"
          },
          "metadata": {}
        }
      ],
      "id": "F2e63Tip_q8d"
    },
    {
      "cell_type": "code",
      "source": [
        "# to get the identity matrix\n",
        "Vs_inv.dot(Vs)"
      ],
      "metadata": {
        "execution": {
          "iopub.status.busy": "2024-08-22T17:06:45.22338Z",
          "iopub.execute_input": "2024-08-22T17:06:45.224136Z",
          "iopub.status.idle": "2024-08-22T17:06:45.241859Z",
          "shell.execute_reply.started": "2024-08-22T17:06:45.223935Z",
          "shell.execute_reply": "2024-08-22T17:06:45.240385Z"
        },
        "trusted": true,
        "id": "7jrXZNfy_q8e",
        "outputId": "e705bc10-9b65-4ee9-a568-3ba0abc37012"
      },
      "execution_count": null,
      "outputs": [
        {
          "execution_count": 46,
          "output_type": "execute_result",
          "data": {
            "text/plain": "array([[ 1.00000000e+00, -1.11022302e-16, -1.11022302e-16],\n       [ 0.00000000e+00,  1.00000000e+00,  0.00000000e+00],\n       [ 0.00000000e+00,  0.00000000e+00,  1.00000000e+00]])"
          },
          "metadata": {}
        }
      ],
      "id": "7jrXZNfy_q8e"
    },
    {
      "cell_type": "code",
      "source": [],
      "metadata": {
        "id": "2DjPFwuh_q8f"
      },
      "execution_count": null,
      "outputs": [],
      "id": "2DjPFwuh_q8f"
    }
  ]
}