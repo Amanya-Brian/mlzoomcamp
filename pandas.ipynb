{
  "metadata": {
    "kernelspec": {
      "language": "python",
      "display_name": "Python 3",
      "name": "python3"
    },
    "language_info": {
      "name": "python",
      "version": "3.10.14",
      "mimetype": "text/x-python",
      "codemirror_mode": {
        "name": "ipython",
        "version": 3
      },
      "pygments_lexer": "ipython3",
      "nbconvert_exporter": "python",
      "file_extension": ".py"
    },
    "kaggle": {
      "accelerator": "none",
      "dataSources": [],
      "dockerImageVersionId": 30761,
      "isInternetEnabled": true,
      "language": "python",
      "sourceType": "notebook",
      "isGpuEnabled": false
    },
    "colab": {
      "name": "pandas",
      "provenance": [],
      "include_colab_link": true
    }
  },
  "nbformat_minor": 0,
  "nbformat": 4,
  "cells": [
    {
      "cell_type": "markdown",
      "metadata": {
        "id": "view-in-github",
        "colab_type": "text"
      },
      "source": [
        "<a href=\"https://colab.research.google.com/github/Amanya-Brian/mlzoomcamp/blob/main/pandas.ipynb\" target=\"_parent\"><img src=\"https://colab.research.google.com/assets/colab-badge.svg\" alt=\"Open In Colab\"/></a>"
      ]
    },
    {
      "cell_type": "markdown",
      "source": [
        "# Pandas"
      ],
      "metadata": {
        "id": "_r9bF3kyDuQh"
      }
    },
    {
      "cell_type": "code",
      "source": [
        "import numpy as np\n",
        "import pandas as pd"
      ],
      "metadata": {
        "execution": {
          "iopub.status.busy": "2024-08-23T16:08:55.292959Z",
          "iopub.execute_input": "2024-08-23T16:08:55.294671Z",
          "iopub.status.idle": "2024-08-23T16:08:55.717984Z",
          "shell.execute_reply.started": "2024-08-23T16:08:55.294597Z",
          "shell.execute_reply": "2024-08-23T16:08:55.716562Z"
        },
        "trusted": true,
        "id": "5fO70FFiDuQp"
      },
      "execution_count": null,
      "outputs": []
    },
    {
      "cell_type": "code",
      "source": [
        "data = [\n",
        "    ['Nissan', 'Stanza', 1991, 138, 4, 'MANUAL', 'sedan', 2000],\n",
        "    ['Hyundai', 'Sonata', 2017, None, 4, 'AUTOMATIC', 'Sedan', 27150],\n",
        "    ['Lotus', 'Elise', 2010, 218, 4, 'MANUAL', 'convertible', 54990],\n",
        "    ['GMC', 'Acadia',  2017, 194, 4, 'AUTOMATIC', '4dr SUV', 34450],\n",
        "    ['Nissan', 'Frontier', 2017, 261, 6, 'MANUAL', 'Pickup', 32340],\n",
        "]\n",
        "\n",
        "columns = [\n",
        "    'Make', 'Model', 'Year', 'Engine HP', 'Engine Cylinders',\n",
        "    'Transmission Type', 'Vehicle_Style', 'MSRP'\n",
        "]"
      ],
      "metadata": {
        "_uuid": "3d089178-8147-4c7f-88c2-a87bac8dc05c",
        "_cell_guid": "00547599-5879-4a60-9fd4-9709428ef750",
        "jupyter": {
          "outputs_hidden": false
        },
        "execution": {
          "iopub.status.busy": "2024-08-23T16:08:55.720391Z",
          "iopub.execute_input": "2024-08-23T16:08:55.72115Z",
          "iopub.status.idle": "2024-08-23T16:08:55.730598Z",
          "shell.execute_reply.started": "2024-08-23T16:08:55.721092Z",
          "shell.execute_reply": "2024-08-23T16:08:55.728913Z"
        },
        "trusted": true,
        "id": "_P7kEIewDuQs"
      },
      "execution_count": null,
      "outputs": []
    },
    {
      "cell_type": "code",
      "source": [
        "df = pd.DataFrame(data)\n",
        "df"
      ],
      "metadata": {
        "execution": {
          "iopub.status.busy": "2024-08-23T16:08:55.732498Z",
          "iopub.execute_input": "2024-08-23T16:08:55.73302Z",
          "iopub.status.idle": "2024-08-23T16:08:55.766927Z",
          "shell.execute_reply.started": "2024-08-23T16:08:55.732961Z",
          "shell.execute_reply": "2024-08-23T16:08:55.765716Z"
        },
        "trusted": true,
        "id": "pRSD7xK8DuQt",
        "outputId": "ebc68fb9-2404-4eb5-bf12-3e05a1277acd"
      },
      "execution_count": null,
      "outputs": [
        {
          "execution_count": 4,
          "output_type": "execute_result",
          "data": {
            "text/plain": "         0         1     2      3  4          5            6      7\n0   Nissan    Stanza  1991  138.0  4     MANUAL        sedan   2000\n1  Hyundai    Sonata  2017    NaN  4  AUTOMATIC        Sedan  27150\n2    Lotus     Elise  2010  218.0  4     MANUAL  convertible  54990\n3      GMC    Acadia  2017  194.0  4  AUTOMATIC      4dr SUV  34450\n4   Nissan  Frontier  2017  261.0  6     MANUAL       Pickup  32340",
            "text/html": "<div>\n<style scoped>\n    .dataframe tbody tr th:only-of-type {\n        vertical-align: middle;\n    }\n\n    .dataframe tbody tr th {\n        vertical-align: top;\n    }\n\n    .dataframe thead th {\n        text-align: right;\n    }\n</style>\n<table border=\"1\" class=\"dataframe\">\n  <thead>\n    <tr style=\"text-align: right;\">\n      <th></th>\n      <th>0</th>\n      <th>1</th>\n      <th>2</th>\n      <th>3</th>\n      <th>4</th>\n      <th>5</th>\n      <th>6</th>\n      <th>7</th>\n    </tr>\n  </thead>\n  <tbody>\n    <tr>\n      <th>0</th>\n      <td>Nissan</td>\n      <td>Stanza</td>\n      <td>1991</td>\n      <td>138.0</td>\n      <td>4</td>\n      <td>MANUAL</td>\n      <td>sedan</td>\n      <td>2000</td>\n    </tr>\n    <tr>\n      <th>1</th>\n      <td>Hyundai</td>\n      <td>Sonata</td>\n      <td>2017</td>\n      <td>NaN</td>\n      <td>4</td>\n      <td>AUTOMATIC</td>\n      <td>Sedan</td>\n      <td>27150</td>\n    </tr>\n    <tr>\n      <th>2</th>\n      <td>Lotus</td>\n      <td>Elise</td>\n      <td>2010</td>\n      <td>218.0</td>\n      <td>4</td>\n      <td>MANUAL</td>\n      <td>convertible</td>\n      <td>54990</td>\n    </tr>\n    <tr>\n      <th>3</th>\n      <td>GMC</td>\n      <td>Acadia</td>\n      <td>2017</td>\n      <td>194.0</td>\n      <td>4</td>\n      <td>AUTOMATIC</td>\n      <td>4dr SUV</td>\n      <td>34450</td>\n    </tr>\n    <tr>\n      <th>4</th>\n      <td>Nissan</td>\n      <td>Frontier</td>\n      <td>2017</td>\n      <td>261.0</td>\n      <td>6</td>\n      <td>MANUAL</td>\n      <td>Pickup</td>\n      <td>32340</td>\n    </tr>\n  </tbody>\n</table>\n</div>"
          },
          "metadata": {}
        }
      ]
    },
    {
      "cell_type": "code",
      "source": [
        "dfc = pd.DataFrame(data, columns=columns)\n",
        "dfc"
      ],
      "metadata": {
        "execution": {
          "iopub.status.busy": "2024-08-23T16:08:55.769878Z",
          "iopub.execute_input": "2024-08-23T16:08:55.770314Z",
          "iopub.status.idle": "2024-08-23T16:08:55.797388Z",
          "shell.execute_reply.started": "2024-08-23T16:08:55.770269Z",
          "shell.execute_reply": "2024-08-23T16:08:55.795945Z"
        },
        "trusted": true,
        "id": "bN5vZw0hDuQy",
        "outputId": "18c8fbc4-2875-4cf9-d940-9c7a00dd6343"
      },
      "execution_count": null,
      "outputs": [
        {
          "execution_count": 5,
          "output_type": "execute_result",
          "data": {
            "text/plain": "      Make     Model  Year  Engine HP  Engine Cylinders Transmission Type  \\\n0   Nissan    Stanza  1991      138.0                 4            MANUAL   \n1  Hyundai    Sonata  2017        NaN                 4         AUTOMATIC   \n2    Lotus     Elise  2010      218.0                 4            MANUAL   \n3      GMC    Acadia  2017      194.0                 4         AUTOMATIC   \n4   Nissan  Frontier  2017      261.0                 6            MANUAL   \n\n  Vehicle_Style   MSRP  \n0         sedan   2000  \n1         Sedan  27150  \n2   convertible  54990  \n3       4dr SUV  34450  \n4        Pickup  32340  ",
            "text/html": "<div>\n<style scoped>\n    .dataframe tbody tr th:only-of-type {\n        vertical-align: middle;\n    }\n\n    .dataframe tbody tr th {\n        vertical-align: top;\n    }\n\n    .dataframe thead th {\n        text-align: right;\n    }\n</style>\n<table border=\"1\" class=\"dataframe\">\n  <thead>\n    <tr style=\"text-align: right;\">\n      <th></th>\n      <th>Make</th>\n      <th>Model</th>\n      <th>Year</th>\n      <th>Engine HP</th>\n      <th>Engine Cylinders</th>\n      <th>Transmission Type</th>\n      <th>Vehicle_Style</th>\n      <th>MSRP</th>\n    </tr>\n  </thead>\n  <tbody>\n    <tr>\n      <th>0</th>\n      <td>Nissan</td>\n      <td>Stanza</td>\n      <td>1991</td>\n      <td>138.0</td>\n      <td>4</td>\n      <td>MANUAL</td>\n      <td>sedan</td>\n      <td>2000</td>\n    </tr>\n    <tr>\n      <th>1</th>\n      <td>Hyundai</td>\n      <td>Sonata</td>\n      <td>2017</td>\n      <td>NaN</td>\n      <td>4</td>\n      <td>AUTOMATIC</td>\n      <td>Sedan</td>\n      <td>27150</td>\n    </tr>\n    <tr>\n      <th>2</th>\n      <td>Lotus</td>\n      <td>Elise</td>\n      <td>2010</td>\n      <td>218.0</td>\n      <td>4</td>\n      <td>MANUAL</td>\n      <td>convertible</td>\n      <td>54990</td>\n    </tr>\n    <tr>\n      <th>3</th>\n      <td>GMC</td>\n      <td>Acadia</td>\n      <td>2017</td>\n      <td>194.0</td>\n      <td>4</td>\n      <td>AUTOMATIC</td>\n      <td>4dr SUV</td>\n      <td>34450</td>\n    </tr>\n    <tr>\n      <th>4</th>\n      <td>Nissan</td>\n      <td>Frontier</td>\n      <td>2017</td>\n      <td>261.0</td>\n      <td>6</td>\n      <td>MANUAL</td>\n      <td>Pickup</td>\n      <td>32340</td>\n    </tr>\n  </tbody>\n</table>\n</div>"
          },
          "metadata": {}
        }
      ]
    },
    {
      "cell_type": "code",
      "source": [
        "# you can also use a list of dictionaries to create a dataframe\n",
        "data = [\n",
        "    {\n",
        "        \"Make\": \"Nissan\",\n",
        "        \"Model\": \"Stanza\",\n",
        "        \"Year\": 1991,\n",
        "        \"Engine HP\": 138.0,\n",
        "        \"Engine Cylinders\": 4,\n",
        "        \"Transmission Type\": \"MANUAL\",\n",
        "        \"Vehicle_Style\": \"sedan\",\n",
        "        \"MSRP\": 2000\n",
        "    },\n",
        "    {\n",
        "        \"Make\": \"Hyundai\",\n",
        "        \"Model\": \"Sonata\",\n",
        "        \"Year\": 2017,\n",
        "        \"Engine HP\": None,\n",
        "        \"Engine Cylinders\": 4,\n",
        "        \"Transmission Type\": \"AUTOMATIC\",\n",
        "        \"Vehicle_Style\": \"Sedan\",\n",
        "        \"MSRP\": 27150\n",
        "    },\n",
        "    {\n",
        "        \"Make\": \"Lotus\",\n",
        "        \"Model\": \"Elise\",\n",
        "        \"Year\": 2010,\n",
        "        \"Engine HP\": 218.0,\n",
        "        \"Engine Cylinders\": 4,\n",
        "        \"Transmission Type\": \"MANUAL\",\n",
        "        \"Vehicle_Style\": \"convertible\",\n",
        "        \"MSRP\": 54990\n",
        "    },\n",
        "    {\n",
        "        \"Make\": \"GMC\",\n",
        "        \"Model\": \"Acadia\",\n",
        "        \"Year\": 2017,\n",
        "        \"Engine HP\": 194.0,\n",
        "        \"Engine Cylinders\": 4,\n",
        "        \"Transmission Type\": \"AUTOMATIC\",\n",
        "        \"Vehicle_Style\": \"4dr SUV\",\n",
        "        \"MSRP\": 34450\n",
        "    },\n",
        "    {\n",
        "        \"Make\": \"Nissan\",\n",
        "        \"Model\": \"Frontier\",\n",
        "        \"Year\": 2017,\n",
        "        \"Engine HP\": 261.0,\n",
        "        \"Engine Cylinders\": 6,\n",
        "        \"Transmission Type\": \"MANUAL\",\n",
        "        \"Vehicle_Style\": \"Pickup\",\n",
        "        \"MSRP\": 32340\n",
        "    }\n",
        "]"
      ],
      "metadata": {
        "execution": {
          "iopub.status.busy": "2024-08-23T16:08:55.799705Z",
          "iopub.execute_input": "2024-08-23T16:08:55.800203Z",
          "iopub.status.idle": "2024-08-23T16:08:55.811332Z",
          "shell.execute_reply.started": "2024-08-23T16:08:55.800154Z",
          "shell.execute_reply": "2024-08-23T16:08:55.809992Z"
        },
        "trusted": true,
        "id": "fte1Yf9NDuQz"
      },
      "execution_count": null,
      "outputs": []
    },
    {
      "cell_type": "code",
      "source": [
        "df2 = pd.DataFrame(data)\n",
        "df2"
      ],
      "metadata": {
        "execution": {
          "iopub.status.busy": "2024-08-23T16:08:55.813285Z",
          "iopub.execute_input": "2024-08-23T16:08:55.813783Z",
          "iopub.status.idle": "2024-08-23T16:08:55.83825Z",
          "shell.execute_reply.started": "2024-08-23T16:08:55.813722Z",
          "shell.execute_reply": "2024-08-23T16:08:55.836822Z"
        },
        "trusted": true,
        "id": "w3A16rjyDuQ0",
        "outputId": "b809fc20-4409-4cdc-ff59-a0daa8aba5dd"
      },
      "execution_count": null,
      "outputs": [
        {
          "execution_count": 7,
          "output_type": "execute_result",
          "data": {
            "text/plain": "      Make     Model  Year  Engine HP  Engine Cylinders Transmission Type  \\\n0   Nissan    Stanza  1991      138.0                 4            MANUAL   \n1  Hyundai    Sonata  2017        NaN                 4         AUTOMATIC   \n2    Lotus     Elise  2010      218.0                 4            MANUAL   \n3      GMC    Acadia  2017      194.0                 4         AUTOMATIC   \n4   Nissan  Frontier  2017      261.0                 6            MANUAL   \n\n  Vehicle_Style   MSRP  \n0         sedan   2000  \n1         Sedan  27150  \n2   convertible  54990  \n3       4dr SUV  34450  \n4        Pickup  32340  ",
            "text/html": "<div>\n<style scoped>\n    .dataframe tbody tr th:only-of-type {\n        vertical-align: middle;\n    }\n\n    .dataframe tbody tr th {\n        vertical-align: top;\n    }\n\n    .dataframe thead th {\n        text-align: right;\n    }\n</style>\n<table border=\"1\" class=\"dataframe\">\n  <thead>\n    <tr style=\"text-align: right;\">\n      <th></th>\n      <th>Make</th>\n      <th>Model</th>\n      <th>Year</th>\n      <th>Engine HP</th>\n      <th>Engine Cylinders</th>\n      <th>Transmission Type</th>\n      <th>Vehicle_Style</th>\n      <th>MSRP</th>\n    </tr>\n  </thead>\n  <tbody>\n    <tr>\n      <th>0</th>\n      <td>Nissan</td>\n      <td>Stanza</td>\n      <td>1991</td>\n      <td>138.0</td>\n      <td>4</td>\n      <td>MANUAL</td>\n      <td>sedan</td>\n      <td>2000</td>\n    </tr>\n    <tr>\n      <th>1</th>\n      <td>Hyundai</td>\n      <td>Sonata</td>\n      <td>2017</td>\n      <td>NaN</td>\n      <td>4</td>\n      <td>AUTOMATIC</td>\n      <td>Sedan</td>\n      <td>27150</td>\n    </tr>\n    <tr>\n      <th>2</th>\n      <td>Lotus</td>\n      <td>Elise</td>\n      <td>2010</td>\n      <td>218.0</td>\n      <td>4</td>\n      <td>MANUAL</td>\n      <td>convertible</td>\n      <td>54990</td>\n    </tr>\n    <tr>\n      <th>3</th>\n      <td>GMC</td>\n      <td>Acadia</td>\n      <td>2017</td>\n      <td>194.0</td>\n      <td>4</td>\n      <td>AUTOMATIC</td>\n      <td>4dr SUV</td>\n      <td>34450</td>\n    </tr>\n    <tr>\n      <th>4</th>\n      <td>Nissan</td>\n      <td>Frontier</td>\n      <td>2017</td>\n      <td>261.0</td>\n      <td>6</td>\n      <td>MANUAL</td>\n      <td>Pickup</td>\n      <td>32340</td>\n    </tr>\n  </tbody>\n</table>\n</div>"
          },
          "metadata": {}
        }
      ]
    },
    {
      "cell_type": "code",
      "source": [
        "# return first 5 rows\n",
        "df2.head()\n",
        "df2.head(n=2)"
      ],
      "metadata": {
        "execution": {
          "iopub.status.busy": "2024-08-23T16:08:55.840772Z",
          "iopub.execute_input": "2024-08-23T16:08:55.842211Z",
          "iopub.status.idle": "2024-08-23T16:08:55.860766Z",
          "shell.execute_reply.started": "2024-08-23T16:08:55.842144Z",
          "shell.execute_reply": "2024-08-23T16:08:55.859232Z"
        },
        "trusted": true,
        "id": "mSA8qi6wDuQ1",
        "outputId": "9c1615fb-8904-4454-a4c9-a643b74a51ac"
      },
      "execution_count": null,
      "outputs": [
        {
          "execution_count": 8,
          "output_type": "execute_result",
          "data": {
            "text/plain": "      Make   Model  Year  Engine HP  Engine Cylinders Transmission Type  \\\n0   Nissan  Stanza  1991      138.0                 4            MANUAL   \n1  Hyundai  Sonata  2017        NaN                 4         AUTOMATIC   \n\n  Vehicle_Style   MSRP  \n0         sedan   2000  \n1         Sedan  27150  ",
            "text/html": "<div>\n<style scoped>\n    .dataframe tbody tr th:only-of-type {\n        vertical-align: middle;\n    }\n\n    .dataframe tbody tr th {\n        vertical-align: top;\n    }\n\n    .dataframe thead th {\n        text-align: right;\n    }\n</style>\n<table border=\"1\" class=\"dataframe\">\n  <thead>\n    <tr style=\"text-align: right;\">\n      <th></th>\n      <th>Make</th>\n      <th>Model</th>\n      <th>Year</th>\n      <th>Engine HP</th>\n      <th>Engine Cylinders</th>\n      <th>Transmission Type</th>\n      <th>Vehicle_Style</th>\n      <th>MSRP</th>\n    </tr>\n  </thead>\n  <tbody>\n    <tr>\n      <th>0</th>\n      <td>Nissan</td>\n      <td>Stanza</td>\n      <td>1991</td>\n      <td>138.0</td>\n      <td>4</td>\n      <td>MANUAL</td>\n      <td>sedan</td>\n      <td>2000</td>\n    </tr>\n    <tr>\n      <th>1</th>\n      <td>Hyundai</td>\n      <td>Sonata</td>\n      <td>2017</td>\n      <td>NaN</td>\n      <td>4</td>\n      <td>AUTOMATIC</td>\n      <td>Sedan</td>\n      <td>27150</td>\n    </tr>\n  </tbody>\n</table>\n</div>"
          },
          "metadata": {}
        }
      ]
    },
    {
      "cell_type": "markdown",
      "source": [
        "## Series\n",
        "This is a column in a dataframe"
      ],
      "metadata": {
        "id": "t38Mg0n3DuQ2"
      }
    },
    {
      "cell_type": "code",
      "source": [
        "print(df2.Make)\n",
        "df2['Make']"
      ],
      "metadata": {
        "execution": {
          "iopub.status.busy": "2024-08-23T16:08:55.863109Z",
          "iopub.execute_input": "2024-08-23T16:08:55.863483Z",
          "iopub.status.idle": "2024-08-23T16:08:55.877104Z",
          "shell.execute_reply.started": "2024-08-23T16:08:55.863445Z",
          "shell.execute_reply": "2024-08-23T16:08:55.875283Z"
        },
        "trusted": true,
        "id": "oLuVGQqWDuQ3",
        "outputId": "2e18b093-73fa-413e-ba9a-84b2333729fc"
      },
      "execution_count": null,
      "outputs": [
        {
          "name": "stdout",
          "text": "0     Nissan\n1    Hyundai\n2      Lotus\n3        GMC\n4     Nissan\nName: Make, dtype: object\n",
          "output_type": "stream"
        },
        {
          "execution_count": 9,
          "output_type": "execute_result",
          "data": {
            "text/plain": "0     Nissan\n1    Hyundai\n2      Lotus\n3        GMC\n4     Nissan\nName: Make, dtype: object"
          },
          "metadata": {}
        }
      ]
    },
    {
      "cell_type": "code",
      "source": [
        "df2[['Model','Make','Year']]"
      ],
      "metadata": {
        "execution": {
          "iopub.status.busy": "2024-08-23T16:08:55.87862Z",
          "iopub.execute_input": "2024-08-23T16:08:55.879062Z",
          "iopub.status.idle": "2024-08-23T16:08:55.906907Z",
          "shell.execute_reply.started": "2024-08-23T16:08:55.879019Z",
          "shell.execute_reply": "2024-08-23T16:08:55.905228Z"
        },
        "trusted": true,
        "id": "1IXKDM_qDuQ4",
        "outputId": "4fdd8c8d-db10-4a6b-b33f-ba897d6bf5e9"
      },
      "execution_count": null,
      "outputs": [
        {
          "execution_count": 10,
          "output_type": "execute_result",
          "data": {
            "text/plain": "      Model     Make  Year\n0    Stanza   Nissan  1991\n1    Sonata  Hyundai  2017\n2     Elise    Lotus  2010\n3    Acadia      GMC  2017\n4  Frontier   Nissan  2017",
            "text/html": "<div>\n<style scoped>\n    .dataframe tbody tr th:only-of-type {\n        vertical-align: middle;\n    }\n\n    .dataframe tbody tr th {\n        vertical-align: top;\n    }\n\n    .dataframe thead th {\n        text-align: right;\n    }\n</style>\n<table border=\"1\" class=\"dataframe\">\n  <thead>\n    <tr style=\"text-align: right;\">\n      <th></th>\n      <th>Model</th>\n      <th>Make</th>\n      <th>Year</th>\n    </tr>\n  </thead>\n  <tbody>\n    <tr>\n      <th>0</th>\n      <td>Stanza</td>\n      <td>Nissan</td>\n      <td>1991</td>\n    </tr>\n    <tr>\n      <th>1</th>\n      <td>Sonata</td>\n      <td>Hyundai</td>\n      <td>2017</td>\n    </tr>\n    <tr>\n      <th>2</th>\n      <td>Elise</td>\n      <td>Lotus</td>\n      <td>2010</td>\n    </tr>\n    <tr>\n      <th>3</th>\n      <td>Acadia</td>\n      <td>GMC</td>\n      <td>2017</td>\n    </tr>\n    <tr>\n      <th>4</th>\n      <td>Frontier</td>\n      <td>Nissan</td>\n      <td>2017</td>\n    </tr>\n  </tbody>\n</table>\n</div>"
          },
          "metadata": {}
        }
      ]
    },
    {
      "cell_type": "markdown",
      "source": [
        "### Adding a column"
      ],
      "metadata": {
        "id": "PWVvU0zhDuQ5"
      }
    },
    {
      "cell_type": "code",
      "source": [
        "df2['id'] = [1,2,3,4,5]\n",
        "df2"
      ],
      "metadata": {
        "execution": {
          "iopub.status.busy": "2024-08-23T16:08:55.911895Z",
          "iopub.execute_input": "2024-08-23T16:08:55.912365Z",
          "iopub.status.idle": "2024-08-23T16:08:55.933062Z",
          "shell.execute_reply.started": "2024-08-23T16:08:55.912323Z",
          "shell.execute_reply": "2024-08-23T16:08:55.931401Z"
        },
        "trusted": true,
        "id": "WE-YrwRDDuQ5",
        "outputId": "1e24ea27-050d-482b-b6d0-f6f59a80eb05"
      },
      "execution_count": null,
      "outputs": [
        {
          "execution_count": 11,
          "output_type": "execute_result",
          "data": {
            "text/plain": "      Make     Model  Year  Engine HP  Engine Cylinders Transmission Type  \\\n0   Nissan    Stanza  1991      138.0                 4            MANUAL   \n1  Hyundai    Sonata  2017        NaN                 4         AUTOMATIC   \n2    Lotus     Elise  2010      218.0                 4            MANUAL   \n3      GMC    Acadia  2017      194.0                 4         AUTOMATIC   \n4   Nissan  Frontier  2017      261.0                 6            MANUAL   \n\n  Vehicle_Style   MSRP  id  \n0         sedan   2000   1  \n1         Sedan  27150   2  \n2   convertible  54990   3  \n3       4dr SUV  34450   4  \n4        Pickup  32340   5  ",
            "text/html": "<div>\n<style scoped>\n    .dataframe tbody tr th:only-of-type {\n        vertical-align: middle;\n    }\n\n    .dataframe tbody tr th {\n        vertical-align: top;\n    }\n\n    .dataframe thead th {\n        text-align: right;\n    }\n</style>\n<table border=\"1\" class=\"dataframe\">\n  <thead>\n    <tr style=\"text-align: right;\">\n      <th></th>\n      <th>Make</th>\n      <th>Model</th>\n      <th>Year</th>\n      <th>Engine HP</th>\n      <th>Engine Cylinders</th>\n      <th>Transmission Type</th>\n      <th>Vehicle_Style</th>\n      <th>MSRP</th>\n      <th>id</th>\n    </tr>\n  </thead>\n  <tbody>\n    <tr>\n      <th>0</th>\n      <td>Nissan</td>\n      <td>Stanza</td>\n      <td>1991</td>\n      <td>138.0</td>\n      <td>4</td>\n      <td>MANUAL</td>\n      <td>sedan</td>\n      <td>2000</td>\n      <td>1</td>\n    </tr>\n    <tr>\n      <th>1</th>\n      <td>Hyundai</td>\n      <td>Sonata</td>\n      <td>2017</td>\n      <td>NaN</td>\n      <td>4</td>\n      <td>AUTOMATIC</td>\n      <td>Sedan</td>\n      <td>27150</td>\n      <td>2</td>\n    </tr>\n    <tr>\n      <th>2</th>\n      <td>Lotus</td>\n      <td>Elise</td>\n      <td>2010</td>\n      <td>218.0</td>\n      <td>4</td>\n      <td>MANUAL</td>\n      <td>convertible</td>\n      <td>54990</td>\n      <td>3</td>\n    </tr>\n    <tr>\n      <th>3</th>\n      <td>GMC</td>\n      <td>Acadia</td>\n      <td>2017</td>\n      <td>194.0</td>\n      <td>4</td>\n      <td>AUTOMATIC</td>\n      <td>4dr SUV</td>\n      <td>34450</td>\n      <td>4</td>\n    </tr>\n    <tr>\n      <th>4</th>\n      <td>Nissan</td>\n      <td>Frontier</td>\n      <td>2017</td>\n      <td>261.0</td>\n      <td>6</td>\n      <td>MANUAL</td>\n      <td>Pickup</td>\n      <td>32340</td>\n      <td>5</td>\n    </tr>\n  </tbody>\n</table>\n</div>"
          },
          "metadata": {}
        }
      ]
    },
    {
      "cell_type": "markdown",
      "source": [
        "### Deleting a column"
      ],
      "metadata": {
        "id": "BYFb-PMuDuQ6"
      }
    },
    {
      "cell_type": "code",
      "source": [
        "del df2['id']\n",
        "df2"
      ],
      "metadata": {
        "execution": {
          "iopub.status.busy": "2024-08-23T16:08:55.934727Z",
          "iopub.execute_input": "2024-08-23T16:08:55.935198Z",
          "iopub.status.idle": "2024-08-23T16:08:55.955949Z",
          "shell.execute_reply.started": "2024-08-23T16:08:55.935142Z",
          "shell.execute_reply": "2024-08-23T16:08:55.954309Z"
        },
        "trusted": true,
        "id": "jP68P2L_DuQ6",
        "outputId": "039c659e-0504-4d7b-a67c-e7cb2af8e7ff"
      },
      "execution_count": null,
      "outputs": [
        {
          "execution_count": 12,
          "output_type": "execute_result",
          "data": {
            "text/plain": "      Make     Model  Year  Engine HP  Engine Cylinders Transmission Type  \\\n0   Nissan    Stanza  1991      138.0                 4            MANUAL   \n1  Hyundai    Sonata  2017        NaN                 4         AUTOMATIC   \n2    Lotus     Elise  2010      218.0                 4            MANUAL   \n3      GMC    Acadia  2017      194.0                 4         AUTOMATIC   \n4   Nissan  Frontier  2017      261.0                 6            MANUAL   \n\n  Vehicle_Style   MSRP  \n0         sedan   2000  \n1         Sedan  27150  \n2   convertible  54990  \n3       4dr SUV  34450  \n4        Pickup  32340  ",
            "text/html": "<div>\n<style scoped>\n    .dataframe tbody tr th:only-of-type {\n        vertical-align: middle;\n    }\n\n    .dataframe tbody tr th {\n        vertical-align: top;\n    }\n\n    .dataframe thead th {\n        text-align: right;\n    }\n</style>\n<table border=\"1\" class=\"dataframe\">\n  <thead>\n    <tr style=\"text-align: right;\">\n      <th></th>\n      <th>Make</th>\n      <th>Model</th>\n      <th>Year</th>\n      <th>Engine HP</th>\n      <th>Engine Cylinders</th>\n      <th>Transmission Type</th>\n      <th>Vehicle_Style</th>\n      <th>MSRP</th>\n    </tr>\n  </thead>\n  <tbody>\n    <tr>\n      <th>0</th>\n      <td>Nissan</td>\n      <td>Stanza</td>\n      <td>1991</td>\n      <td>138.0</td>\n      <td>4</td>\n      <td>MANUAL</td>\n      <td>sedan</td>\n      <td>2000</td>\n    </tr>\n    <tr>\n      <th>1</th>\n      <td>Hyundai</td>\n      <td>Sonata</td>\n      <td>2017</td>\n      <td>NaN</td>\n      <td>4</td>\n      <td>AUTOMATIC</td>\n      <td>Sedan</td>\n      <td>27150</td>\n    </tr>\n    <tr>\n      <th>2</th>\n      <td>Lotus</td>\n      <td>Elise</td>\n      <td>2010</td>\n      <td>218.0</td>\n      <td>4</td>\n      <td>MANUAL</td>\n      <td>convertible</td>\n      <td>54990</td>\n    </tr>\n    <tr>\n      <th>3</th>\n      <td>GMC</td>\n      <td>Acadia</td>\n      <td>2017</td>\n      <td>194.0</td>\n      <td>4</td>\n      <td>AUTOMATIC</td>\n      <td>4dr SUV</td>\n      <td>34450</td>\n    </tr>\n    <tr>\n      <th>4</th>\n      <td>Nissan</td>\n      <td>Frontier</td>\n      <td>2017</td>\n      <td>261.0</td>\n      <td>6</td>\n      <td>MANUAL</td>\n      <td>Pickup</td>\n      <td>32340</td>\n    </tr>\n  </tbody>\n</table>\n</div>"
          },
          "metadata": {}
        }
      ]
    },
    {
      "cell_type": "markdown",
      "source": [
        "### Accessing elements"
      ],
      "metadata": {
        "id": "pqjT-Hl3DuQ6"
      }
    },
    {
      "cell_type": "code",
      "source": [
        "# We access using indices for the rows\n",
        "print(df2.loc[3])\n",
        "\n",
        "# access multiple rows\n",
        "print(df2.loc[[2,3]])"
      ],
      "metadata": {
        "execution": {
          "iopub.status.busy": "2024-08-23T16:08:55.957479Z",
          "iopub.execute_input": "2024-08-23T16:08:55.957859Z",
          "iopub.status.idle": "2024-08-23T16:08:55.979195Z",
          "shell.execute_reply.started": "2024-08-23T16:08:55.957819Z",
          "shell.execute_reply": "2024-08-23T16:08:55.977625Z"
        },
        "trusted": true,
        "id": "JE_DLphNDuQ6",
        "outputId": "cbe45dc4-fc0c-494a-d625-90ca23fae131"
      },
      "execution_count": null,
      "outputs": [
        {
          "name": "stdout",
          "text": "Make                       GMC\nModel                   Acadia\nYear                      2017\nEngine HP                194.0\nEngine Cylinders             4\nTransmission Type    AUTOMATIC\nVehicle_Style          4dr SUV\nMSRP                     34450\nName: 3, dtype: object\n    Make   Model  Year  Engine HP  Engine Cylinders Transmission Type  \\\n2  Lotus   Elise  2010      218.0                 4            MANUAL   \n3    GMC  Acadia  2017      194.0                 4         AUTOMATIC   \n\n  Vehicle_Style   MSRP  \n2   convertible  54990  \n3       4dr SUV  34450  \n",
          "output_type": "stream"
        }
      ]
    },
    {
      "cell_type": "code",
      "source": [
        "# can edit the indices\n",
        "df2.index = ['a','b','c','d','e']\n",
        "print(df2)\n",
        "print(df2.loc['c'])"
      ],
      "metadata": {
        "execution": {
          "iopub.status.busy": "2024-08-23T16:08:55.980832Z",
          "iopub.execute_input": "2024-08-23T16:08:55.981287Z",
          "iopub.status.idle": "2024-08-23T16:08:55.998983Z",
          "shell.execute_reply.started": "2024-08-23T16:08:55.981244Z",
          "shell.execute_reply": "2024-08-23T16:08:55.997496Z"
        },
        "trusted": true,
        "id": "ymZkoXboDuQ7",
        "outputId": "528ffb6e-2345-40f9-b2c5-5485efa00e95"
      },
      "execution_count": null,
      "outputs": [
        {
          "name": "stdout",
          "text": "      Make     Model  Year  Engine HP  Engine Cylinders Transmission Type  \\\na   Nissan    Stanza  1991      138.0                 4            MANUAL   \nb  Hyundai    Sonata  2017        NaN                 4         AUTOMATIC   \nc    Lotus     Elise  2010      218.0                 4            MANUAL   \nd      GMC    Acadia  2017      194.0                 4         AUTOMATIC   \ne   Nissan  Frontier  2017      261.0                 6            MANUAL   \n\n  Vehicle_Style   MSRP  \na         sedan   2000  \nb         Sedan  27150  \nc   convertible  54990  \nd       4dr SUV  34450  \ne        Pickup  32340  \nMake                       Lotus\nModel                      Elise\nYear                        2010\nEngine HP                  218.0\nEngine Cylinders               4\nTransmission Type         MANUAL\nVehicle_Style        convertible\nMSRP                       54990\nName: c, dtype: object\n",
          "output_type": "stream"
        }
      ]
    },
    {
      "cell_type": "code",
      "source": [
        "# can still access with the default indices using iloc\n",
        "df2.iloc[2]"
      ],
      "metadata": {
        "execution": {
          "iopub.status.busy": "2024-08-23T16:08:56.001425Z",
          "iopub.execute_input": "2024-08-23T16:08:56.001992Z",
          "iopub.status.idle": "2024-08-23T16:08:56.019793Z",
          "shell.execute_reply.started": "2024-08-23T16:08:56.001943Z",
          "shell.execute_reply": "2024-08-23T16:08:56.017854Z"
        },
        "trusted": true,
        "id": "-qHj3HQ4DuQ7",
        "outputId": "52d24b85-be27-4ed5-99b4-6838720fc4da"
      },
      "execution_count": null,
      "outputs": [
        {
          "execution_count": 15,
          "output_type": "execute_result",
          "data": {
            "text/plain": "Make                       Lotus\nModel                      Elise\nYear                        2010\nEngine HP                  218.0\nEngine Cylinders               4\nTransmission Type         MANUAL\nVehicle_Style        convertible\nMSRP                       54990\nName: c, dtype: object"
          },
          "metadata": {}
        }
      ]
    },
    {
      "cell_type": "code",
      "source": [
        "# reset the indices but creates a new data frame\n",
        "df3 = df2.reset_index()\n",
        "print(df2)\n",
        "print(df3)"
      ],
      "metadata": {
        "execution": {
          "iopub.status.busy": "2024-08-23T16:08:56.021696Z",
          "iopub.execute_input": "2024-08-23T16:08:56.022229Z",
          "iopub.status.idle": "2024-08-23T16:08:56.042197Z",
          "shell.execute_reply.started": "2024-08-23T16:08:56.022183Z",
          "shell.execute_reply": "2024-08-23T16:08:56.040234Z"
        },
        "trusted": true,
        "id": "G7EZfFuqDuQ8",
        "outputId": "fa6824cf-8389-434a-d7d5-66a51f146602"
      },
      "execution_count": null,
      "outputs": [
        {
          "name": "stdout",
          "text": "      Make     Model  Year  Engine HP  Engine Cylinders Transmission Type  \\\na   Nissan    Stanza  1991      138.0                 4            MANUAL   \nb  Hyundai    Sonata  2017        NaN                 4         AUTOMATIC   \nc    Lotus     Elise  2010      218.0                 4            MANUAL   \nd      GMC    Acadia  2017      194.0                 4         AUTOMATIC   \ne   Nissan  Frontier  2017      261.0                 6            MANUAL   \n\n  Vehicle_Style   MSRP  \na         sedan   2000  \nb         Sedan  27150  \nc   convertible  54990  \nd       4dr SUV  34450  \ne        Pickup  32340  \n  index     Make     Model  Year  Engine HP  Engine Cylinders  \\\n0     a   Nissan    Stanza  1991      138.0                 4   \n1     b  Hyundai    Sonata  2017        NaN                 4   \n2     c    Lotus     Elise  2010      218.0                 4   \n3     d      GMC    Acadia  2017      194.0                 4   \n4     e   Nissan  Frontier  2017      261.0                 6   \n\n  Transmission Type Vehicle_Style   MSRP  \n0            MANUAL         sedan   2000  \n1         AUTOMATIC         Sedan  27150  \n2            MANUAL   convertible  54990  \n3         AUTOMATIC       4dr SUV  34450  \n4            MANUAL        Pickup  32340  \n",
          "output_type": "stream"
        }
      ]
    },
    {
      "cell_type": "markdown",
      "source": [
        "# Filtering"
      ],
      "metadata": {
        "id": "wCO3trjEDuQ8"
      }
    },
    {
      "cell_type": "code",
      "source": [
        "df2['Year'] >= 2015"
      ],
      "metadata": {
        "execution": {
          "iopub.status.busy": "2024-08-23T16:08:56.044064Z",
          "iopub.execute_input": "2024-08-23T16:08:56.0446Z",
          "iopub.status.idle": "2024-08-23T16:08:56.058212Z",
          "shell.execute_reply.started": "2024-08-23T16:08:56.044513Z",
          "shell.execute_reply": "2024-08-23T16:08:56.056817Z"
        },
        "trusted": true,
        "id": "VQ4fsOFIDuQ8",
        "outputId": "6becabe0-ce46-478e-a662-b0371c8ea3e0"
      },
      "execution_count": null,
      "outputs": [
        {
          "execution_count": 17,
          "output_type": "execute_result",
          "data": {
            "text/plain": "a    False\nb     True\nc    False\nd     True\ne     True\nName: Year, dtype: bool"
          },
          "metadata": {}
        }
      ]
    },
    {
      "cell_type": "code",
      "source": [
        "# All cars made after 2015\n",
        "df2[\n",
        "    df2['Year'] >= 2015\n",
        "]"
      ],
      "metadata": {
        "execution": {
          "iopub.status.busy": "2024-08-23T16:08:56.060195Z",
          "iopub.execute_input": "2024-08-23T16:08:56.060707Z",
          "iopub.status.idle": "2024-08-23T16:08:56.08166Z",
          "shell.execute_reply.started": "2024-08-23T16:08:56.06066Z",
          "shell.execute_reply": "2024-08-23T16:08:56.080105Z"
        },
        "trusted": true,
        "id": "QJqLcHtgDuQ9",
        "outputId": "6a807195-3565-4e7c-8b11-692ce6827849"
      },
      "execution_count": null,
      "outputs": [
        {
          "execution_count": 18,
          "output_type": "execute_result",
          "data": {
            "text/plain": "      Make     Model  Year  Engine HP  Engine Cylinders Transmission Type  \\\nb  Hyundai    Sonata  2017        NaN                 4         AUTOMATIC   \nd      GMC    Acadia  2017      194.0                 4         AUTOMATIC   \ne   Nissan  Frontier  2017      261.0                 6            MANUAL   \n\n  Vehicle_Style   MSRP  \nb         Sedan  27150  \nd       4dr SUV  34450  \ne        Pickup  32340  ",
            "text/html": "<div>\n<style scoped>\n    .dataframe tbody tr th:only-of-type {\n        vertical-align: middle;\n    }\n\n    .dataframe tbody tr th {\n        vertical-align: top;\n    }\n\n    .dataframe thead th {\n        text-align: right;\n    }\n</style>\n<table border=\"1\" class=\"dataframe\">\n  <thead>\n    <tr style=\"text-align: right;\">\n      <th></th>\n      <th>Make</th>\n      <th>Model</th>\n      <th>Year</th>\n      <th>Engine HP</th>\n      <th>Engine Cylinders</th>\n      <th>Transmission Type</th>\n      <th>Vehicle_Style</th>\n      <th>MSRP</th>\n    </tr>\n  </thead>\n  <tbody>\n    <tr>\n      <th>b</th>\n      <td>Hyundai</td>\n      <td>Sonata</td>\n      <td>2017</td>\n      <td>NaN</td>\n      <td>4</td>\n      <td>AUTOMATIC</td>\n      <td>Sedan</td>\n      <td>27150</td>\n    </tr>\n    <tr>\n      <th>d</th>\n      <td>GMC</td>\n      <td>Acadia</td>\n      <td>2017</td>\n      <td>194.0</td>\n      <td>4</td>\n      <td>AUTOMATIC</td>\n      <td>4dr SUV</td>\n      <td>34450</td>\n    </tr>\n    <tr>\n      <th>e</th>\n      <td>Nissan</td>\n      <td>Frontier</td>\n      <td>2017</td>\n      <td>261.0</td>\n      <td>6</td>\n      <td>MANUAL</td>\n      <td>Pickup</td>\n      <td>32340</td>\n    </tr>\n  </tbody>\n</table>\n</div>"
          },
          "metadata": {}
        }
      ]
    },
    {
      "cell_type": "code",
      "source": [
        "# All cars of Nissan Make\n",
        "df2[\n",
        "    df2['Make'] == 'Nissan'\n",
        "]"
      ],
      "metadata": {
        "execution": {
          "iopub.status.busy": "2024-08-23T16:08:56.083227Z",
          "iopub.execute_input": "2024-08-23T16:08:56.083623Z",
          "iopub.status.idle": "2024-08-23T16:08:56.104313Z",
          "shell.execute_reply.started": "2024-08-23T16:08:56.08358Z",
          "shell.execute_reply": "2024-08-23T16:08:56.102481Z"
        },
        "trusted": true,
        "id": "Oep3W_PvDuQ9",
        "outputId": "3e14bd40-7658-449e-d7a3-448c50204bd0"
      },
      "execution_count": null,
      "outputs": [
        {
          "execution_count": 19,
          "output_type": "execute_result",
          "data": {
            "text/plain": "     Make     Model  Year  Engine HP  Engine Cylinders Transmission Type  \\\na  Nissan    Stanza  1991      138.0                 4            MANUAL   \ne  Nissan  Frontier  2017      261.0                 6            MANUAL   \n\n  Vehicle_Style   MSRP  \na         sedan   2000  \ne        Pickup  32340  ",
            "text/html": "<div>\n<style scoped>\n    .dataframe tbody tr th:only-of-type {\n        vertical-align: middle;\n    }\n\n    .dataframe tbody tr th {\n        vertical-align: top;\n    }\n\n    .dataframe thead th {\n        text-align: right;\n    }\n</style>\n<table border=\"1\" class=\"dataframe\">\n  <thead>\n    <tr style=\"text-align: right;\">\n      <th></th>\n      <th>Make</th>\n      <th>Model</th>\n      <th>Year</th>\n      <th>Engine HP</th>\n      <th>Engine Cylinders</th>\n      <th>Transmission Type</th>\n      <th>Vehicle_Style</th>\n      <th>MSRP</th>\n    </tr>\n  </thead>\n  <tbody>\n    <tr>\n      <th>a</th>\n      <td>Nissan</td>\n      <td>Stanza</td>\n      <td>1991</td>\n      <td>138.0</td>\n      <td>4</td>\n      <td>MANUAL</td>\n      <td>sedan</td>\n      <td>2000</td>\n    </tr>\n    <tr>\n      <th>e</th>\n      <td>Nissan</td>\n      <td>Frontier</td>\n      <td>2017</td>\n      <td>261.0</td>\n      <td>6</td>\n      <td>MANUAL</td>\n      <td>Pickup</td>\n      <td>32340</td>\n    </tr>\n  </tbody>\n</table>\n</div>"
          },
          "metadata": {}
        }
      ]
    },
    {
      "cell_type": "code",
      "source": [
        "# Nissan after 2005\n",
        "df2[\n",
        "    (df2['Year'] >= 2015) & (df2['Make'] == 'Nissan')\n",
        "]"
      ],
      "metadata": {
        "execution": {
          "iopub.status.busy": "2024-08-23T16:08:56.106281Z",
          "iopub.execute_input": "2024-08-23T16:08:56.106724Z",
          "iopub.status.idle": "2024-08-23T16:08:56.126282Z",
          "shell.execute_reply.started": "2024-08-23T16:08:56.106676Z",
          "shell.execute_reply": "2024-08-23T16:08:56.124822Z"
        },
        "trusted": true,
        "id": "umUcNB0dDuQ9",
        "outputId": "66e75f65-a8f0-4ce5-dd91-98cef9aa63e6"
      },
      "execution_count": null,
      "outputs": [
        {
          "execution_count": 20,
          "output_type": "execute_result",
          "data": {
            "text/plain": "     Make     Model  Year  Engine HP  Engine Cylinders Transmission Type  \\\ne  Nissan  Frontier  2017      261.0                 6            MANUAL   \n\n  Vehicle_Style   MSRP  \ne        Pickup  32340  ",
            "text/html": "<div>\n<style scoped>\n    .dataframe tbody tr th:only-of-type {\n        vertical-align: middle;\n    }\n\n    .dataframe tbody tr th {\n        vertical-align: top;\n    }\n\n    .dataframe thead th {\n        text-align: right;\n    }\n</style>\n<table border=\"1\" class=\"dataframe\">\n  <thead>\n    <tr style=\"text-align: right;\">\n      <th></th>\n      <th>Make</th>\n      <th>Model</th>\n      <th>Year</th>\n      <th>Engine HP</th>\n      <th>Engine Cylinders</th>\n      <th>Transmission Type</th>\n      <th>Vehicle_Style</th>\n      <th>MSRP</th>\n    </tr>\n  </thead>\n  <tbody>\n    <tr>\n      <th>e</th>\n      <td>Nissan</td>\n      <td>Frontier</td>\n      <td>2017</td>\n      <td>261.0</td>\n      <td>6</td>\n      <td>MANUAL</td>\n      <td>Pickup</td>\n      <td>32340</td>\n    </tr>\n  </tbody>\n</table>\n</div>"
          },
          "metadata": {}
        }
      ]
    },
    {
      "cell_type": "markdown",
      "source": [
        "### String manipulation"
      ],
      "metadata": {
        "id": "WB7W9X-ZDuQ-"
      }
    },
    {
      "cell_type": "code",
      "source": [
        "# can convert to lowercase\n",
        "df2['Vehicle_Style'].str.replace(' ','_').str.lower()"
      ],
      "metadata": {
        "execution": {
          "iopub.status.busy": "2024-08-23T16:08:56.128333Z",
          "iopub.execute_input": "2024-08-23T16:08:56.128915Z",
          "iopub.status.idle": "2024-08-23T16:08:56.141473Z",
          "shell.execute_reply.started": "2024-08-23T16:08:56.128854Z",
          "shell.execute_reply": "2024-08-23T16:08:56.13948Z"
        },
        "trusted": true,
        "id": "5wR1D84PDuQ-",
        "outputId": "4d598977-f2d9-4501-c901-388865a8fd67"
      },
      "execution_count": null,
      "outputs": [
        {
          "execution_count": 21,
          "output_type": "execute_result",
          "data": {
            "text/plain": "a          sedan\nb          sedan\nc    convertible\nd        4dr_suv\ne         pickup\nName: Vehicle_Style, dtype: object"
          },
          "metadata": {}
        }
      ]
    },
    {
      "cell_type": "code",
      "source": [
        "# overwrite the current column\n",
        "df2['Vehicle_Style'] = df2['Vehicle_Style'].str.replace(' ','_').str.lower()\n",
        "df2"
      ],
      "metadata": {
        "execution": {
          "iopub.status.busy": "2024-08-23T16:08:56.143762Z",
          "iopub.execute_input": "2024-08-23T16:08:56.14481Z",
          "iopub.status.idle": "2024-08-23T16:08:56.165757Z",
          "shell.execute_reply.started": "2024-08-23T16:08:56.144739Z",
          "shell.execute_reply": "2024-08-23T16:08:56.164181Z"
        },
        "trusted": true,
        "id": "KTIfmnL-DuQ-",
        "outputId": "8a329458-d081-407e-bdde-9efd038e5aa5"
      },
      "execution_count": null,
      "outputs": [
        {
          "execution_count": 22,
          "output_type": "execute_result",
          "data": {
            "text/plain": "      Make     Model  Year  Engine HP  Engine Cylinders Transmission Type  \\\na   Nissan    Stanza  1991      138.0                 4            MANUAL   \nb  Hyundai    Sonata  2017        NaN                 4         AUTOMATIC   \nc    Lotus     Elise  2010      218.0                 4            MANUAL   \nd      GMC    Acadia  2017      194.0                 4         AUTOMATIC   \ne   Nissan  Frontier  2017      261.0                 6            MANUAL   \n\n  Vehicle_Style   MSRP  \na         sedan   2000  \nb         sedan  27150  \nc   convertible  54990  \nd       4dr_suv  34450  \ne        pickup  32340  ",
            "text/html": "<div>\n<style scoped>\n    .dataframe tbody tr th:only-of-type {\n        vertical-align: middle;\n    }\n\n    .dataframe tbody tr th {\n        vertical-align: top;\n    }\n\n    .dataframe thead th {\n        text-align: right;\n    }\n</style>\n<table border=\"1\" class=\"dataframe\">\n  <thead>\n    <tr style=\"text-align: right;\">\n      <th></th>\n      <th>Make</th>\n      <th>Model</th>\n      <th>Year</th>\n      <th>Engine HP</th>\n      <th>Engine Cylinders</th>\n      <th>Transmission Type</th>\n      <th>Vehicle_Style</th>\n      <th>MSRP</th>\n    </tr>\n  </thead>\n  <tbody>\n    <tr>\n      <th>a</th>\n      <td>Nissan</td>\n      <td>Stanza</td>\n      <td>1991</td>\n      <td>138.0</td>\n      <td>4</td>\n      <td>MANUAL</td>\n      <td>sedan</td>\n      <td>2000</td>\n    </tr>\n    <tr>\n      <th>b</th>\n      <td>Hyundai</td>\n      <td>Sonata</td>\n      <td>2017</td>\n      <td>NaN</td>\n      <td>4</td>\n      <td>AUTOMATIC</td>\n      <td>sedan</td>\n      <td>27150</td>\n    </tr>\n    <tr>\n      <th>c</th>\n      <td>Lotus</td>\n      <td>Elise</td>\n      <td>2010</td>\n      <td>218.0</td>\n      <td>4</td>\n      <td>MANUAL</td>\n      <td>convertible</td>\n      <td>54990</td>\n    </tr>\n    <tr>\n      <th>d</th>\n      <td>GMC</td>\n      <td>Acadia</td>\n      <td>2017</td>\n      <td>194.0</td>\n      <td>4</td>\n      <td>AUTOMATIC</td>\n      <td>4dr_suv</td>\n      <td>34450</td>\n    </tr>\n    <tr>\n      <th>e</th>\n      <td>Nissan</td>\n      <td>Frontier</td>\n      <td>2017</td>\n      <td>261.0</td>\n      <td>6</td>\n      <td>MANUAL</td>\n      <td>pickup</td>\n      <td>32340</td>\n    </tr>\n  </tbody>\n</table>\n</div>"
          },
          "metadata": {}
        }
      ]
    },
    {
      "cell_type": "markdown",
      "source": [
        "### Summarizing operations"
      ],
      "metadata": {
        "id": "cvwKXH-sDuQ-"
      }
    },
    {
      "cell_type": "code",
      "source": [
        "# describe the dataset\n",
        "df2.describe().round(2)"
      ],
      "metadata": {
        "execution": {
          "iopub.status.busy": "2024-08-23T16:09:42.238458Z",
          "iopub.execute_input": "2024-08-23T16:09:42.239042Z",
          "iopub.status.idle": "2024-08-23T16:09:42.269432Z",
          "shell.execute_reply.started": "2024-08-23T16:09:42.238994Z",
          "shell.execute_reply": "2024-08-23T16:09:42.268247Z"
        },
        "trusted": true,
        "id": "ifH0ugKFDuQ_",
        "outputId": "af503aa8-1c0d-48d3-b08e-fd79dd37200b"
      },
      "execution_count": null,
      "outputs": [
        {
          "execution_count": 25,
          "output_type": "execute_result",
          "data": {
            "text/plain": "          Year  Engine HP  Engine Cylinders      MSRP\ncount     5.00       4.00              5.00      5.00\nmean   2010.40     202.75              4.40  30186.00\nstd      11.26      51.30              0.89  18985.04\nmin    1991.00     138.00              4.00   2000.00\n25%    2010.00     180.00              4.00  27150.00\n50%    2017.00     206.00              4.00  32340.00\n75%    2017.00     228.75              4.00  34450.00\nmax    2017.00     261.00              6.00  54990.00",
            "text/html": "<div>\n<style scoped>\n    .dataframe tbody tr th:only-of-type {\n        vertical-align: middle;\n    }\n\n    .dataframe tbody tr th {\n        vertical-align: top;\n    }\n\n    .dataframe thead th {\n        text-align: right;\n    }\n</style>\n<table border=\"1\" class=\"dataframe\">\n  <thead>\n    <tr style=\"text-align: right;\">\n      <th></th>\n      <th>Year</th>\n      <th>Engine HP</th>\n      <th>Engine Cylinders</th>\n      <th>MSRP</th>\n    </tr>\n  </thead>\n  <tbody>\n    <tr>\n      <th>count</th>\n      <td>5.00</td>\n      <td>4.00</td>\n      <td>5.00</td>\n      <td>5.00</td>\n    </tr>\n    <tr>\n      <th>mean</th>\n      <td>2010.40</td>\n      <td>202.75</td>\n      <td>4.40</td>\n      <td>30186.00</td>\n    </tr>\n    <tr>\n      <th>std</th>\n      <td>11.26</td>\n      <td>51.30</td>\n      <td>0.89</td>\n      <td>18985.04</td>\n    </tr>\n    <tr>\n      <th>min</th>\n      <td>1991.00</td>\n      <td>138.00</td>\n      <td>4.00</td>\n      <td>2000.00</td>\n    </tr>\n    <tr>\n      <th>25%</th>\n      <td>2010.00</td>\n      <td>180.00</td>\n      <td>4.00</td>\n      <td>27150.00</td>\n    </tr>\n    <tr>\n      <th>50%</th>\n      <td>2017.00</td>\n      <td>206.00</td>\n      <td>4.00</td>\n      <td>32340.00</td>\n    </tr>\n    <tr>\n      <th>75%</th>\n      <td>2017.00</td>\n      <td>228.75</td>\n      <td>4.00</td>\n      <td>34450.00</td>\n    </tr>\n    <tr>\n      <th>max</th>\n      <td>2017.00</td>\n      <td>261.00</td>\n      <td>6.00</td>\n      <td>54990.00</td>\n    </tr>\n  </tbody>\n</table>\n</div>"
          },
          "metadata": {}
        }
      ]
    },
    {
      "cell_type": "code",
      "source": [
        "df2.Year.min()"
      ],
      "metadata": {
        "execution": {
          "iopub.status.busy": "2024-08-23T16:09:18.987016Z",
          "iopub.execute_input": "2024-08-23T16:09:18.987604Z",
          "iopub.status.idle": "2024-08-23T16:09:18.996891Z",
          "shell.execute_reply.started": "2024-08-23T16:09:18.987557Z",
          "shell.execute_reply": "2024-08-23T16:09:18.995243Z"
        },
        "trusted": true,
        "id": "zDX-D7t8DuQ_",
        "outputId": "4349748b-782f-4836-b72f-7665407e148e"
      },
      "execution_count": null,
      "outputs": [
        {
          "execution_count": 24,
          "output_type": "execute_result",
          "data": {
            "text/plain": "1991"
          },
          "metadata": {}
        }
      ]
    },
    {
      "cell_type": "code",
      "source": [
        "# unique values per column\n",
        "df2.nunique()"
      ],
      "metadata": {
        "execution": {
          "iopub.status.busy": "2024-08-23T16:12:23.788569Z",
          "iopub.execute_input": "2024-08-23T16:12:23.789109Z",
          "iopub.status.idle": "2024-08-23T16:12:23.807648Z",
          "shell.execute_reply.started": "2024-08-23T16:12:23.789058Z",
          "shell.execute_reply": "2024-08-23T16:12:23.806191Z"
        },
        "trusted": true,
        "id": "-4JNaUVQDuRA",
        "outputId": "46f107e2-2001-4300-d2c3-12aab85c3be0"
      },
      "execution_count": null,
      "outputs": [
        {
          "execution_count": 28,
          "output_type": "execute_result",
          "data": {
            "text/plain": "Make                 4\nModel                5\nYear                 3\nEngine HP            4\nEngine Cylinders     2\nTransmission Type    2\nVehicle_Style        4\nMSRP                 5\ndtype: int64"
          },
          "metadata": {}
        }
      ]
    },
    {
      "cell_type": "markdown",
      "source": [
        "### Missing values"
      ],
      "metadata": {
        "id": "I9ONA4aJDuRA"
      }
    },
    {
      "cell_type": "code",
      "source": [
        "# display them\n",
        "df2.isnull()\n",
        "\n",
        "#count per column\n",
        "df2.isnull().sum()"
      ],
      "metadata": {
        "execution": {
          "iopub.status.busy": "2024-08-23T16:11:26.58857Z",
          "iopub.execute_input": "2024-08-23T16:11:26.589075Z",
          "iopub.status.idle": "2024-08-23T16:11:26.601997Z",
          "shell.execute_reply.started": "2024-08-23T16:11:26.589032Z",
          "shell.execute_reply": "2024-08-23T16:11:26.60067Z"
        },
        "trusted": true,
        "id": "9qe7rEMkDuRA",
        "outputId": "fb6edbc7-64e9-4cd8-9a46-d1edbd7c5a3c"
      },
      "execution_count": null,
      "outputs": [
        {
          "execution_count": 27,
          "output_type": "execute_result",
          "data": {
            "text/plain": "Make                 0\nModel                0\nYear                 0\nEngine HP            1\nEngine Cylinders     0\nTransmission Type    0\nVehicle_Style        0\nMSRP                 0\ndtype: int64"
          },
          "metadata": {}
        }
      ]
    },
    {
      "cell_type": "markdown",
      "source": [
        "# Grouping\n",
        "SELECT\n",
        "    transmission_type,\n",
        "    AVG(MSRP)\n",
        "FROM\n",
        "    cars\n",
        "GROUP BY\n",
        "    transmission_type"
      ],
      "metadata": {
        "id": "nIsCs3KODuRB"
      }
    },
    {
      "cell_type": "code",
      "source": [
        "df2.groupby('Transmission Type').MSRP.max()"
      ],
      "metadata": {
        "execution": {
          "iopub.status.busy": "2024-08-23T16:14:43.5069Z",
          "iopub.execute_input": "2024-08-23T16:14:43.507426Z",
          "iopub.status.idle": "2024-08-23T16:14:43.523442Z",
          "shell.execute_reply.started": "2024-08-23T16:14:43.50738Z",
          "shell.execute_reply": "2024-08-23T16:14:43.521849Z"
        },
        "trusted": true,
        "id": "3PM_7mQMDuRB",
        "outputId": "459e07ca-e1aa-456a-f018-914e8a4f7d0e"
      },
      "execution_count": null,
      "outputs": [
        {
          "execution_count": 30,
          "output_type": "execute_result",
          "data": {
            "text/plain": "Transmission Type\nAUTOMATIC    34450\nMANUAL       54990\nName: MSRP, dtype: int64"
          },
          "metadata": {}
        }
      ]
    },
    {
      "cell_type": "code",
      "source": [
        "df2.groupby('Transmission Type').MSRP.mean().round(2)"
      ],
      "metadata": {
        "execution": {
          "iopub.status.busy": "2024-08-23T16:18:44.884359Z",
          "iopub.execute_input": "2024-08-23T16:18:44.884907Z",
          "iopub.status.idle": "2024-08-23T16:18:44.89885Z",
          "shell.execute_reply.started": "2024-08-23T16:18:44.884838Z",
          "shell.execute_reply": "2024-08-23T16:18:44.897205Z"
        },
        "trusted": true,
        "id": "PJR50g9WDuRC",
        "outputId": "dddf5c71-efa1-4a88-ddfc-26664e89bb35"
      },
      "execution_count": null,
      "outputs": [
        {
          "execution_count": 32,
          "output_type": "execute_result",
          "data": {
            "text/plain": "Transmission Type\nAUTOMATIC    30800.00\nMANUAL       29776.67\nName: MSRP, dtype: float64"
          },
          "metadata": {}
        }
      ]
    },
    {
      "cell_type": "markdown",
      "source": [
        "# Getting the numpy arrays"
      ],
      "metadata": {
        "id": "VuguIkSCDuRG"
      }
    },
    {
      "cell_type": "code",
      "source": [
        "df2.Vehicle_Style.values"
      ],
      "metadata": {
        "execution": {
          "iopub.status.busy": "2024-08-23T16:21:31.789455Z",
          "iopub.execute_input": "2024-08-23T16:21:31.789997Z",
          "iopub.status.idle": "2024-08-23T16:21:31.799765Z",
          "shell.execute_reply.started": "2024-08-23T16:21:31.789949Z",
          "shell.execute_reply": "2024-08-23T16:21:31.797902Z"
        },
        "trusted": true,
        "id": "puladOcgDuRH",
        "outputId": "21cbfe1c-c5c9-45ed-b393-bba3c66fa142"
      },
      "execution_count": null,
      "outputs": [
        {
          "execution_count": 35,
          "output_type": "execute_result",
          "data": {
            "text/plain": "array(['sedan', 'sedan', 'convertible', '4dr_suv', 'pickup'], dtype=object)"
          },
          "metadata": {}
        }
      ]
    },
    {
      "cell_type": "code",
      "source": [
        "# converting the dataframe to dictionaries list\n",
        "# df2.to_dict()\n",
        "df2.to_dict(orient='records')"
      ],
      "metadata": {
        "execution": {
          "iopub.status.busy": "2024-08-23T16:23:16.633479Z",
          "iopub.execute_input": "2024-08-23T16:23:16.633994Z",
          "iopub.status.idle": "2024-08-23T16:23:16.646164Z",
          "shell.execute_reply.started": "2024-08-23T16:23:16.633946Z",
          "shell.execute_reply": "2024-08-23T16:23:16.644595Z"
        },
        "trusted": true,
        "id": "UoJIp7KkDuRO",
        "outputId": "2fc790be-967c-4e3c-b88a-ab9ce7a2ad8f"
      },
      "execution_count": null,
      "outputs": [
        {
          "execution_count": 37,
          "output_type": "execute_result",
          "data": {
            "text/plain": "[{'Make': 'Nissan',\n  'Model': 'Stanza',\n  'Year': 1991,\n  'Engine HP': 138.0,\n  'Engine Cylinders': 4,\n  'Transmission Type': 'MANUAL',\n  'Vehicle_Style': 'sedan',\n  'MSRP': 2000},\n {'Make': 'Hyundai',\n  'Model': 'Sonata',\n  'Year': 2017,\n  'Engine HP': nan,\n  'Engine Cylinders': 4,\n  'Transmission Type': 'AUTOMATIC',\n  'Vehicle_Style': 'sedan',\n  'MSRP': 27150},\n {'Make': 'Lotus',\n  'Model': 'Elise',\n  'Year': 2010,\n  'Engine HP': 218.0,\n  'Engine Cylinders': 4,\n  'Transmission Type': 'MANUAL',\n  'Vehicle_Style': 'convertible',\n  'MSRP': 54990},\n {'Make': 'GMC',\n  'Model': 'Acadia',\n  'Year': 2017,\n  'Engine HP': 194.0,\n  'Engine Cylinders': 4,\n  'Transmission Type': 'AUTOMATIC',\n  'Vehicle_Style': '4dr_suv',\n  'MSRP': 34450},\n {'Make': 'Nissan',\n  'Model': 'Frontier',\n  'Year': 2017,\n  'Engine HP': 261.0,\n  'Engine Cylinders': 6,\n  'Transmission Type': 'MANUAL',\n  'Vehicle_Style': 'pickup',\n  'MSRP': 32340}]"
          },
          "metadata": {}
        }
      ]
    }
  ]
}